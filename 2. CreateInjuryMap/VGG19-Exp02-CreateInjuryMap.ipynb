{
 "cells": [
  {
   "cell_type": "markdown",
   "metadata": {},
   "source": [
    "# Creating an Injury Map for the trained VGG19\n",
    "\n",
    "Create a \"map\" of network weight (\"synapse\") injury in the trained VGG19. \n",
    "\n",
    "The map defines a random order by which to injure the weights, so that injury is random throughout. There are two main purposes of doing this:\n",
    "1. To simulate a diffuse and random \"synaptic\" injury in the network\n",
    "2. To create a reproducible \"disease progression\" within a given network\n",
    "\n",
    "This allows the experimenter to injure a given network cumulatively so as to simulate progressive neurodegeneration.\n",
    "- e.g. When going from a 10% injury to a 15% injury, the script will essentially injure an additional 5% of the network weights on-top of the 10% of weights that were already injured\n",
    "\n",
    "**The _output_ is a list of the same length as the _weights_ returned by the tensorflow function model.get_weights()**\n",
    "- The elements in the _output_ list correspond to the matching elements the _weights_ list\n",
    "    - e.g. list element 0 is for the weights in the first layer, list element 1 is for the weights in the second layer\n",
    "- Each list element in the _output_ is a numpy array of the same size as the matching element in the _weights_ list\n",
    "- The elements in the _output_ corresponding to the weights (e.g. list element 0, 2, 4, etc for VGG19) are a randomized list of integers that give the order by which to injure (ablate) the weights in that given layer\n",
    "- The elements in the _output_ corresponding to the biases (e.g. list elements 1, 3, 5, etc for VGG19) are not randomized, as the biases were not modified in this paper"
   ]
  },
  {
   "cell_type": "markdown",
   "metadata": {},
   "source": [
    "# Input: Model source filename"
   ]
  },
  {
   "cell_type": "code",
   "execution_count": null,
   "metadata": {},
   "outputs": [],
   "source": [
    "# run ID corresponding to the trained model\n",
    "run = '0001'"
   ]
  },
  {
   "cell_type": "code",
   "execution_count": null,
   "metadata": {},
   "outputs": [],
   "source": [
    "# Path to directory storing the trained model\n",
    "trained_dir = '../Trained_Models'\n",
    "trained_prefix = '/VGG19-Exp01-TrainedModel-run'\n",
    "trained_suffix = '.h5'"
   ]
  },
  {
   "cell_type": "code",
   "execution_count": null,
   "metadata": {},
   "outputs": [],
   "source": [
    "# Filename of model to use\n",
    "model_filename = trained_dir + trained_prefix + str(run) + trained_suffix\n",
    "print(\"Will use model:\\n\\t\",model_filename)"
   ]
  },
  {
   "cell_type": "markdown",
   "metadata": {},
   "source": [
    "# Output (Injury map) filename"
   ]
  },
  {
   "cell_type": "code",
   "execution_count": null,
   "metadata": {},
   "outputs": [],
   "source": [
    "# Path to \n",
    "map_dir = '../Injury_Maps'\n",
    "map_prefix = '/VGG19-Exp02-InjuryMap-run'\n",
    "map_suffix = '.pickle'"
   ]
  },
  {
   "cell_type": "code",
   "execution_count": null,
   "metadata": {},
   "outputs": [],
   "source": [
    "# Filename\n",
    "injury_map_path = map_dir + map_prefix + str(run) + map_suffix\n",
    "print(\"Injury map path:\\n\\t\",injury_map_path)"
   ]
  },
  {
   "cell_type": "markdown",
   "metadata": {},
   "source": [
    "# Load modules"
   ]
  },
  {
   "cell_type": "code",
   "execution_count": null,
   "metadata": {},
   "outputs": [],
   "source": [
    "import tensorflow.keras as K\n",
    "import numpy as np\n",
    "import os\n",
    "import pickle"
   ]
  },
  {
   "cell_type": "markdown",
   "metadata": {},
   "source": [
    "# Load trained model"
   ]
  },
  {
   "cell_type": "code",
   "execution_count": null,
   "metadata": {},
   "outputs": [],
   "source": [
    "model = K.models.load_model(model_filename)"
   ]
  },
  {
   "cell_type": "code",
   "execution_count": null,
   "metadata": {},
   "outputs": [],
   "source": [
    "model.summary()"
   ]
  },
  {
   "cell_type": "markdown",
   "metadata": {},
   "source": [
    "## Get weights of the trained model"
   ]
  },
  {
   "cell_type": "code",
   "execution_count": null,
   "metadata": {},
   "outputs": [],
   "source": [
    "weights = model.get_weights()"
   ]
  },
  {
   "cell_type": "markdown",
   "metadata": {},
   "source": [
    "# Define functions"
   ]
  },
  {
   "cell_type": "markdown",
   "metadata": {},
   "source": [
    "## Function to Read variables in and out"
   ]
  },
  {
   "cell_type": "code",
   "execution_count": null,
   "metadata": {},
   "outputs": [],
   "source": [
    "def pickle_out_variable(variable, filename, folder_path='.'):\n",
    "    \"\"\"\n",
    "    Simple function to pickle out a single python variable\n",
    "    given the filename (filename.pickle), as a string\n",
    "    and a foldername ('.' for current directory) as a string\n",
    "    \"\"\"\n",
    "    # Open the file, call it \"results.pickle\"\n",
    "    pickle_out = open(os.path.join(folder_path, filename), 'wb')\n",
    "    # Write out the results to defined file\n",
    "    pickle.dump(variable, pickle_out)\n",
    "    # Close the file\n",
    "    pickle_out.close()"
   ]
  },
  {
   "cell_type": "code",
   "execution_count": null,
   "metadata": {},
   "outputs": [],
   "source": [
    "def pickle_in_variable(filename, folder_path='.'):\n",
    "    \"\"\"\n",
    "    Simple function to pickle in a single python variable\n",
    "    given the filename (filename.pickle), as a string\n",
    "    and a foldername ('.' for current directory) as a string\n",
    "    \"\"\"\n",
    "    # Open the file\n",
    "    pickle_in = open(os.path.join(folder_path, filename), 'rb')\n",
    "    # Read in the variable\n",
    "    variable = pickle.load(pickle_in)\n",
    "    # Close the file\n",
    "    pickle_in.close()\n",
    "\n",
    "    # Return the variable\n",
    "    return variable"
   ]
  },
  {
   "cell_type": "markdown",
   "metadata": {},
   "source": [
    "## Function to injure weights"
   ]
  },
  {
   "cell_type": "code",
   "execution_count": null,
   "metadata": {},
   "outputs": [],
   "source": [
    "def define_order_of_injury(weights):\n",
    "    '''\n",
    "    Define the order in which progressive injury will be applied.\n",
    "    \n",
    "    Input: Model weights as list of numpy arrays\n",
    "        - Mainly for defining the size of order-of-injury list\n",
    "\n",
    "    Output: Indices by which to order the injury mask, as a list of numpy arrays\n",
    "        - Bias is ignored and passed as unrandomized indices\n",
    "        - List element for weights is a randomized 1-d numpy array\n",
    "         with values from 0 to (# elements - 1)\n",
    "        - This serves as part of the input when creating the injury mask\n",
    "            - When creating the injury mask of a given layer, instead of\n",
    "              randomizing the injury mask array, re-arrange them according\n",
    "              to this randomized indices. Thus, the ordered injury mask\n",
    "              will always be randomized the same way according to a\n",
    "              once-defined randomization.\n",
    "            - You can then increase the amount of injury in a given layer\n",
    "              and distributed that randomly to the weights in the layer\n",
    "              in a consistent manner.\n",
    "    '''\n",
    "    \n",
    "    injury_order = [None]*len(weights)\n",
    "    \n",
    "    \n",
    "    for i in range(len(injury_order)):\n",
    "        # Initialize the indices to the size of the list element\n",
    "        injury_order[i] = np.arange(weights[i].size)\n",
    "        \n",
    "        if i%2 == 0:  # For even indices, which are the weights\n",
    "            # Randomly shuffle the indices of the weight elements\n",
    "            np.random.shuffle(injury_order[i])\n",
    "    \n",
    "    return injury_order"
   ]
  },
  {
   "cell_type": "markdown",
   "metadata": {},
   "source": [
    "# Make injury map"
   ]
  },
  {
   "cell_type": "code",
   "execution_count": null,
   "metadata": {},
   "outputs": [],
   "source": [
    "injury_map = define_order_of_injury(weights)"
   ]
  },
  {
   "cell_type": "markdown",
   "metadata": {},
   "source": [
    "# Save injury map"
   ]
  },
  {
   "cell_type": "code",
   "execution_count": null,
   "metadata": {},
   "outputs": [],
   "source": [
    "pickle_out_variable(injury_map, injury_map_path)"
   ]
  }
 ],
 "metadata": {
  "kernelspec": {
   "display_name": "Python 3 (ipykernel)",
   "language": "python",
   "name": "python3"
  },
  "language_info": {
   "codemirror_mode": {
    "name": "ipython",
    "version": 3
   },
   "file_extension": ".py",
   "mimetype": "text/x-python",
   "name": "python",
   "nbconvert_exporter": "python",
   "pygments_lexer": "ipython3",
   "version": "3.8.13"
  }
 },
 "nbformat": 4,
 "nbformat_minor": 4
}
