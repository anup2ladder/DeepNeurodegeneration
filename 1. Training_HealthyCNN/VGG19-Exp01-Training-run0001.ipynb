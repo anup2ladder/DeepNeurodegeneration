{
 "cells": [
  {
   "cell_type": "markdown",
   "metadata": {},
   "source": [
    "# Transfer learning of a VGG19 network to perform classification on the the CIFAR 100 dataset\n",
    "Perform transfer learning on a VGG19 network that was previously trained on the ImageNet dataset to perform classification on the CIFAR100 dataset using 3 rounds of training\n",
    "- On round 1, unfreeze and train all weights\n",
    "- On round 2, freeze the first 3 convolutional blocks, train the last 2 convolutional blocks and dense layers\n",
    "- On round 3, fine-tune on the dense layers only"
   ]
  },
  {
   "cell_type": "markdown",
   "metadata": {},
   "source": [
    "# Input Parameters\n",
    "Modifiable inputs to the training task"
   ]
  },
  {
   "cell_type": "code",
   "execution_count": null,
   "metadata": {},
   "outputs": [],
   "source": [
    "# Path to locally stored pre-trained weights that are available from Tensorflow 2.0\n",
    "pretrained_path = '../Pretrained_Weights/vgg19_weights_tf_dim_ordering_tf_kernels_notop.h5'"
   ]
  },
  {
   "cell_type": "code",
   "execution_count": null,
   "metadata": {},
   "outputs": [],
   "source": [
    "# Batch size\n",
    "BATCH_SIZE=128"
   ]
  },
  {
   "cell_type": "code",
   "execution_count": null,
   "metadata": {},
   "outputs": [],
   "source": [
    "# Number of epochs in each training round\n",
    "EPOCHS1=20\n",
    "EPOCHS2=10\n",
    "EPOCHS3=10"
   ]
  },
  {
   "cell_type": "code",
   "execution_count": null,
   "metadata": {},
   "outputs": [],
   "source": [
    "# Learning rate in each training round\n",
    "LR1=3e-5\n",
    "LR2=3e-5\n",
    "LR3=3e-5"
   ]
  },
  {
   "cell_type": "code",
   "execution_count": null,
   "metadata": {},
   "outputs": [],
   "source": [
    "# Dropout rate\n",
    "dropout = 0.3"
   ]
  },
  {
   "cell_type": "markdown",
   "metadata": {},
   "source": [
    "# Output Filename and path"
   ]
  },
  {
   "cell_type": "code",
   "execution_count": null,
   "metadata": {},
   "outputs": [],
   "source": [
    "# Modifiable value of the run ID\n",
    "run = '0001'"
   ]
  },
  {
   "cell_type": "code",
   "execution_count": null,
   "metadata": {},
   "outputs": [],
   "source": [
    "# Path to directory storing the trained model\n",
    "trained_dir = '../Trained_Models'\n",
    "trained_prefix = '/VGG19-Exp01-TrainedModel-run'\n",
    "trained_suffix = '.h5'"
   ]
  },
  {
   "cell_type": "code",
   "execution_count": null,
   "metadata": {},
   "outputs": [],
   "source": [
    "# Filename of trained model\n",
    "output_filename = trained_dir + trained_prefix + str(run) + trained_suffix\n",
    "print(\"Will save to:\\n\\t\",output_filename)"
   ]
  },
  {
   "cell_type": "markdown",
   "metadata": {},
   "source": [
    "# Load modules"
   ]
  },
  {
   "cell_type": "code",
   "execution_count": null,
   "metadata": {},
   "outputs": [],
   "source": [
    "import tensorflow.keras as K"
   ]
  },
  {
   "cell_type": "markdown",
   "metadata": {},
   "source": [
    "# Import Data"
   ]
  },
  {
   "cell_type": "code",
   "execution_count": null,
   "metadata": {},
   "outputs": [],
   "source": [
    "def preprocess_data(X, Y):\n",
    "    \"\"\"Pre-processes the data for the trained model\"\"\"\n",
    "    # Input is pre-processed input to match VGG19 using built in function\n",
    "    X_p = K.applications.vgg19.preprocess_input(X.astype('float32')) \n",
    "    \n",
    "    # One-hot matrix\n",
    "    Y_p = K.utils.to_categorical(Y, classes)\n",
    "    \n",
    "    return X_p, Y_p"
   ]
  },
  {
   "cell_type": "code",
   "execution_count": null,
   "metadata": {},
   "outputs": [],
   "source": [
    "# Load the raw cifar100 dataset\n",
    "(raw_X_train, raw_Y_train), (raw_X_valid, raw_Y_valid) = K.datasets.cifar100.load_data()\n",
    "classes = 100"
   ]
  },
  {
   "cell_type": "code",
   "execution_count": null,
   "metadata": {},
   "outputs": [],
   "source": [
    "# Pre-process the training and validation data\n",
    "X_train, Y_train = preprocess_data(raw_X_train, raw_Y_train)  # training\n",
    "X_valid, Y_valid = preprocess_data(raw_X_valid, raw_Y_valid)  # validation"
   ]
  },
  {
   "cell_type": "markdown",
   "metadata": {},
   "source": [
    "# Set up the model"
   ]
  },
  {
   "cell_type": "markdown",
   "metadata": {},
   "source": [
    "## Pre-trained VGG19's convolutional blocks"
   ]
  },
  {
   "cell_type": "code",
   "execution_count": null,
   "metadata": {},
   "outputs": [],
   "source": [
    "# Initialize the convolutional blocks from TF's built-in function\n",
    "vgg = K.applications.VGG19(include_top=False, \n",
    "                           weights=None, \n",
    "                           pooling='avg'\n",
    "                          )\n",
    "\n",
    "# Load the pre-trained weights\n",
    "vgg.load_weights(pretrained_path)\n",
    "\n",
    "# Set-up VGG19's convolutional blocks with an input and output\n",
    "output = vgg.layers[-1].output\n",
    "output = K.layers.Flatten()(output)\n",
    "vgg_model = K.Model(vgg.input, output, name=\"VGG19_ConvBlocks\")\n",
    "vgg_model.trainable = True"
   ]
  },
  {
   "cell_type": "code",
   "execution_count": null,
   "metadata": {},
   "outputs": [],
   "source": [
    "# Display the convolutional block model summary\n",
    "vgg_model.summary()"
   ]
  },
  {
   "cell_type": "markdown",
   "metadata": {},
   "source": [
    "## VGG19 with new dense and classification layers"
   ]
  },
  {
   "cell_type": "code",
   "execution_count": null,
   "metadata": {},
   "outputs": [],
   "source": [
    "# Build sequential model\n",
    "model = K.Sequential()\n",
    "\n",
    "# INPUT\n",
    "# Up sample\n",
    "model.add(K.Input(shape=(32,32,3)))\n",
    "model.add(K.layers.UpSampling2D(4))\n",
    "\n",
    "# VGG convolutional blocks\n",
    "model.add(vgg_model)\n",
    "\n",
    "# First hidden dense layer after VGG\n",
    "model.add(K.layers.Dense(1000, activation='relu'))\n",
    "model.add(K.layers.Dropout(dropout))\n",
    "\n",
    "# Second hidden dense layer after VGG\n",
    "model.add(K.layers.Dense(1000, activation='relu'))\n",
    "model.add(K.layers.Dropout(dropout))\n",
    "\n",
    "# Classification layer\n",
    "model.add(K.layers.Dense(classes, activation='softmax'))\n",
    "\n",
    "# Compile\n",
    "model.compile(optimizer=K.optimizers.RMSprop(lr=LR1),\n",
    "              loss='categorical_crossentropy',\n",
    "              metrics=['accuracy'])\n",
    "\n",
    "# Retrieve weights before training\n",
    "weights_before = model.get_weights()"
   ]
  },
  {
   "cell_type": "code",
   "execution_count": null,
   "metadata": {},
   "outputs": [],
   "source": [
    "# Display the model summary\n",
    "# See above for the details of the \"VGG19_ConvBlocks\"\n",
    "model.summary()"
   ]
  },
  {
   "cell_type": "markdown",
   "metadata": {},
   "source": [
    "# Train the model"
   ]
  },
  {
   "cell_type": "markdown",
   "metadata": {},
   "source": [
    "## First Training Round\n",
    "- Train all layers"
   ]
  },
  {
   "cell_type": "code",
   "execution_count": null,
   "metadata": {},
   "outputs": [],
   "source": [
    "# Unfreeze all layers\n",
    "set_trainable = True\n",
    "for layer in vgg_model.layers:\n",
    "    if set_trainable:\n",
    "        layer.trainable = True"
   ]
  },
  {
   "cell_type": "code",
   "execution_count": null,
   "metadata": {},
   "outputs": [],
   "source": [
    "# Recompile model\n",
    "model.compile(optimizer=K.optimizers.RMSprop(lr=LR1),\n",
    "              loss='categorical_crossentropy',\n",
    "              metrics=['accuracy'])"
   ]
  },
  {
   "cell_type": "code",
   "execution_count": null,
   "metadata": {},
   "outputs": [],
   "source": [
    "# Print out what layers of the convolutional blocks are being trained and what layers are held fixed\n",
    "for layer in vgg_model.layers:\n",
    "    print(\"Layer\", layer.name, \" :\\t\", layer.trainable)"
   ]
  },
  {
   "cell_type": "code",
   "execution_count": null,
   "metadata": {},
   "outputs": [],
   "source": [
    "# Print out what layers of the overall model are being trained and what layers are held fixed\n",
    "for layer in model.layers:\n",
    "    print(\"Layer\", layer.name, \" :\\t\", layer.trainable)"
   ]
  },
  {
   "cell_type": "code",
   "execution_count": null,
   "metadata": {},
   "outputs": [],
   "source": [
    "# Run training\n",
    "# First round of training: Train all layers\n",
    "print('\\n\\n FIRST ROUND\\n')\n",
    "history = model.fit(x=X_train, y=Y_train,\n",
    "                    validation_data = (X_valid, Y_valid),\n",
    "                    epochs=EPOCHS1,\n",
    "                    batch_size=BATCH_SIZE,\n",
    "                    verbose=1,\n",
    "                    validation_steps=10\n",
    "                   )"
   ]
  },
  {
   "cell_type": "markdown",
   "metadata": {},
   "source": [
    "## Second Round\n",
    "- Freeze convolutional blocks 1-3\n",
    "- Train convolutional blocks 4-5 and dense layers"
   ]
  },
  {
   "cell_type": "code",
   "execution_count": null,
   "metadata": {},
   "outputs": [],
   "source": [
    "# Freeze convolutional blocks 1-3 in VGG19\n",
    "# Leave convolutional blocks 4-5 as trainable\n",
    "set_trainable = False\n",
    "for layer in vgg_model.layers:\n",
    "    if layer.name in ['block5_conv1', 'block4_conv1']:\n",
    "        set_trainable = True\n",
    "\n",
    "    if set_trainable:\n",
    "        layer.trainable = True\n",
    "    else:\n",
    "        layer.trainable = False"
   ]
  },
  {
   "cell_type": "code",
   "execution_count": null,
   "metadata": {},
   "outputs": [],
   "source": [
    "# Recompile model\n",
    "model.compile(optimizer=K.optimizers.RMSprop(lr=LR2),\n",
    "              loss='categorical_crossentropy',\n",
    "              metrics=['accuracy'])"
   ]
  },
  {
   "cell_type": "code",
   "execution_count": null,
   "metadata": {},
   "outputs": [],
   "source": [
    "# Print out what layers of the convolutional blocks are being trained and what layers are held fixed\n",
    "for layer in vgg_model.layers:\n",
    "    print(\"Layer\", layer.name, \" :\\t\", layer.trainable)"
   ]
  },
  {
   "cell_type": "code",
   "execution_count": null,
   "metadata": {},
   "outputs": [],
   "source": [
    "# Print out what layers of the overall model are being trained and what layers are held fixed\n",
    "for layer in model.layers:\n",
    "    print(\"Layer\", layer.name, \" :\\t\", layer.trainable)"
   ]
  },
  {
   "cell_type": "code",
   "execution_count": null,
   "metadata": {},
   "outputs": [],
   "source": [
    "# Run training\n",
    "# Second round of training: Train conv.blocks 4-5 and dense layers\n",
    "print('\\n\\n SECOND ROUND\\n')\n",
    "history = model.fit(x=X_train, y=Y_train,\n",
    "                    validation_data = (X_valid, Y_valid),\n",
    "                    epochs=EPOCHS2,\n",
    "                    batch_size=BATCH_SIZE,\n",
    "                    verbose=1,\n",
    "                    validation_steps=10\n",
    "                   )"
   ]
  },
  {
   "cell_type": "markdown",
   "metadata": {},
   "source": [
    "## Third Round\n",
    "- Freeze all convolutional blocks\n",
    "- Train dense layers"
   ]
  },
  {
   "cell_type": "code",
   "execution_count": null,
   "metadata": {},
   "outputs": [],
   "source": [
    "# Freeze all VGG layers\n",
    "set_trainable = False\n",
    "for layer in vgg_model.layers:\n",
    "    if set_trainable == True:\n",
    "        layer.trainable = True\n",
    "    else:\n",
    "        layer.trainable = False"
   ]
  },
  {
   "cell_type": "code",
   "execution_count": null,
   "metadata": {},
   "outputs": [],
   "source": [
    "# Recompile model\n",
    "model.compile(optimizer=K.optimizers.RMSprop(lr=LR3),\n",
    "              loss='categorical_crossentropy',\n",
    "              metrics=['accuracy'])"
   ]
  },
  {
   "cell_type": "code",
   "execution_count": null,
   "metadata": {},
   "outputs": [],
   "source": [
    "# Print out what layers of the convolutional blocks are being trained and what layers are held fixed\n",
    "for layer in vgg_model.layers:\n",
    "    print(\"Layer\", layer.name, \" :\\t\", layer.trainable)"
   ]
  },
  {
   "cell_type": "code",
   "execution_count": null,
   "metadata": {},
   "outputs": [],
   "source": [
    "# Print out what layers of the overall model are being trained and what layers are held fixed\n",
    "for layer in model.layers:\n",
    "    print(\"Layer\", layer.name, \" :\\t\", layer.trainable)"
   ]
  },
  {
   "cell_type": "code",
   "execution_count": null,
   "metadata": {},
   "outputs": [],
   "source": [
    "# Run training\n",
    "# Third round of training: Train dense layers only\n",
    "print('\\n\\n THIRD ROUND\\n')\n",
    "history = model.fit(x=X_train, y=Y_train,\n",
    "                    validation_data = (X_valid, Y_valid),\n",
    "                    epochs=EPOCHS3,\n",
    "                    batch_size=BATCH_SIZE,\n",
    "                    verbose=1,\n",
    "                    validation_steps=10\n",
    "                   )"
   ]
  },
  {
   "cell_type": "markdown",
   "metadata": {},
   "source": [
    "# Save Model"
   ]
  },
  {
   "cell_type": "code",
   "execution_count": null,
   "metadata": {},
   "outputs": [],
   "source": [
    "model.save(output_filename)"
   ]
  },
  {
   "cell_type": "markdown",
   "metadata": {},
   "source": [
    "# Run evaluation on the final model"
   ]
  },
  {
   "cell_type": "code",
   "execution_count": null,
   "metadata": {},
   "outputs": [],
   "source": [
    "score = model.evaluate(X_valid, Y_valid, verbose=0)"
   ]
  },
  {
   "cell_type": "code",
   "execution_count": null,
   "metadata": {},
   "outputs": [],
   "source": [
    "print(\"\\n\")\n",
    "print('='*20)\n",
    "print(\"\\n\")\n",
    "print(output_filename)\n",
    "print(\"Validation accuracy:\", score[1])"
   ]
  }
 ],
 "metadata": {
  "kernelspec": {
   "display_name": "Python 3 (ipykernel)",
   "language": "python",
   "name": "python3"
  },
  "language_info": {
   "codemirror_mode": {
    "name": "ipython",
    "version": 3
   },
   "file_extension": ".py",
   "mimetype": "text/x-python",
   "name": "python",
   "nbconvert_exporter": "python",
   "pygments_lexer": "ipython3",
   "version": "3.8.13"
  }
 },
 "nbformat": 4,
 "nbformat_minor": 4
}
